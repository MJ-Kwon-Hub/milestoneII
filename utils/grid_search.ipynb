{
 "cells": [
  {
   "cell_type": "code",
   "execution_count": null,
   "metadata": {},
   "outputs": [],
   "source": [
    "from sklearn.model_selection import GridSearchCV\n",
    "\n",
    "# example param_grid\n",
    "grid_values = {'penalty': ['l1', 'l2'], 'C':[0.005, 0.01, 0.05, 0.1, 1, 10]}\n",
    "\n",
    "def get_best_precision(model, param_grid, X_train, y_train):\n",
    "    grid = GridSearchCV(model, param_grid=param_grid, scoring='precision')\n",
    "    grid.fit(X_train, y_train)\n",
    "\n",
    "    return grid.best_score_\n"
   ]
  }
 ],
 "metadata": {
  "language_info": {
   "name": "python"
  },
  "orig_nbformat": 4
 },
 "nbformat": 4,
 "nbformat_minor": 2
}
