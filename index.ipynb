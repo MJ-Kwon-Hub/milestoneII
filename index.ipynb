{
 "cells": [
  {
   "cell_type": "code",
   "execution_count": null,
   "metadata": {},
   "outputs": [],
   "source": [
    "import pandas as pd\n",
    "\n",
    "housing_inventory = pd.read_csv('./data/HOSINVUSM495N.csv')\n",
    "housing_affordability_index = pd.read_csv('./data/FIXHAI.csv')\n",
    "housing_active_listings = pd.read_csv('./data/ACTLISCOUUS.csv')\n",
    "housing_price_index = pd.read_csv('./data/USSTHPI.csv')\n",
    "housing_vacant_units = pd.read_csv('./data/EVACANTUSQ176N.csv')\n",
    "housing_median_days_on_market = pd.read_csv('./data/MEDDAYONMARUS.csv')\n",
    "housing_30_year_fixed = pd.read_csv('./data/OBMMIFHA30YF.csv')\n",
    "housing_median_price = pd.read_csv('./data/MSPUS.csv')\n",
    "\n",
    "def normalize_col(df, col_name):\n",
    "    mean = df.mean().loc[col_name]  \n",
    "    std = df.std().loc[col_name]\n",
    "    df[col_name] = df[col_name].apply(lambda x: (x - mean) / std)\n",
    "\n",
    "    return df\n",
    "\n",
    "def get_combined_df(df_list, months):\n",
    "    combined_df = None\n",
    "    \n",
    "    for df in df_list:\n",
    "        start = df['DATE'].size - months\n",
    "        df = df[start:]\n",
    "        df = normalize_col(df, df.columns[1])\n",
    "        print(df.head())\n",
    "        \n",
    "        combined_df = df if combined_df is None else combined_df.merge(df, on='DATE', how='outer')\n",
    "        \n",
    "    return combined_df\n",
    "\n",
    "dataframes = [housing_inventory, housing_affordability_index, housing_active_listings, housing_price_index, housing_vacant_units, housing_median_days_on_market, housing_30_year_fixed, housing_median_price]\n",
    "\n",
    "df_combined = get_combined_df(dataframes, 60)\n",
    "df_combined = df_combined.rename(columns={'HOSINVUSM495N':'housing_inventory', 'FIXHAI':'housing_affordability_index', 'ACTLISCOUUS':'housing_active_listings', 'USSTHPI':'housing_price_index', 'EVACANTUSQ176N':'housing_vacant_units', 'MEDDAYONMARUS':'housing_median_days_on_market', 'OBMMIFHA30YF':'housing_30_year_fixed', 'MSPUS':'housing_median_price'})\n",
    "df_combined = df_combined.melt(id_vars=['DATE'],var_name='INDEX')"
   ]
  }
 ],
 "metadata": {
  "language_info": {
   "name": "python"
  },
  "orig_nbformat": 4
 },
 "nbformat": 4,
 "nbformat_minor": 2
}
