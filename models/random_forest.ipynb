{
 "cells": [
  {
   "cell_type": "code",
   "execution_count": 2,
   "metadata": {},
   "outputs": [],
   "source": [
    "# https://github.com/urgedata/pythondata/blob/master/rf_timeseries/Random%20Forest%20for%20Time%20Series%20Forecasting.ipynb\n",
    "\n",
    "import pandas as pd\n",
    "import matplotlib.pyplot as plt\n",
    "import numpy as np\n",
    "import statsmodels.api as sm\n",
    "\n",
    "from sklearn.ensemble._forest import RandomForestRegressor\n",
    "\n",
    "from sklearn.metrics import mean_squared_error, r2_score\n",
    "\n",
    "import math\n",
    "from dateutil.relativedelta import relativedelta\n",
    "from datetime import datetime, date\n",
    "%matplotlib inline\n",
    "plt.rcParams['figure.figsize']=(20,10)\n",
    "plt.style.use('ggplot') \n",
    "\n",
    "# set variables\n",
    "X_train = None\n",
    "y_train = None\n",
    "X_test = None\n",
    "y_test = None"
   ]
  },
  {
   "cell_type": "code",
   "execution_count": null,
   "metadata": {},
   "outputs": [],
   "source": [
    "RF_Model = RandomForestRegressor(n_estimators=100,\n",
    "                                 max_features=1, oob_score=True)\n",
    "labels = y_train#[:, None]\n",
    "features = X_train[:, None]\n",
    "rgr=RF_Model.fit(features, labels)\n",
    "X_test_predict=pd.DataFrame(\n",
    "    rgr.predict(X_test[:, None])).rename(\n",
    "    columns={0:'predicted_price'}).set_index('predicted_price')\n",
    "X_train_predict=pd.DataFrame(\n",
    "    rgr.predict(X_train[:, None])).rename(\n",
    "    columns={0:'predicted_price'}).set_index('predicted_price')\n",
    "RF_predict = X_train_predict.append(X_test_predict)"
   ]
  },
  {
   "cell_type": "code",
   "execution_count": null,
   "metadata": {},
   "outputs": [],
   "source": [
    "# evaluation\n",
    "r2_score(y_train[:, None], X_train_predict.reset_index().values)"
   ]
  }
 ],
 "metadata": {
  "kernelspec": {
   "display_name": "milestoneII-GYt9I6pr",
   "language": "python",
   "name": "python3"
  },
  "language_info": {
   "codemirror_mode": {
    "name": "ipython",
    "version": 3
   },
   "file_extension": ".py",
   "mimetype": "text/x-python",
   "name": "python",
   "nbconvert_exporter": "python",
   "pygments_lexer": "ipython3",
   "version": "3.10.8"
  },
  "orig_nbformat": 4
 },
 "nbformat": 4,
 "nbformat_minor": 2
}
