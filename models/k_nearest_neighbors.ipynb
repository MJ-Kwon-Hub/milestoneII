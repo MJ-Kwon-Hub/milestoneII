{
 "cells": [
  {
   "cell_type": "code",
<<<<<<< HEAD
   "execution_count": 1,
=======
   "execution_count": 2,
>>>>>>> 415d578d5720b2b7ff89beb0335db4d3940c898a
   "metadata": {},
   "outputs": [],
   "source": [
    "# K Nearest Neighbors (KNN) with Dynamic Time Warping (DTW)\n",
    "\n",
    "import numpy as np\n",
<<<<<<< HEAD
    "import pandas as pd\n",
    "from scipy.spatial import distance\n",
    "from sklearn.model_selection import train_test_split, KFold, TimeSeriesSplit\n",
=======
    "from scipy.spatial import distance\n",
    "from sklearn.model_selection import train_test_split\n",
>>>>>>> 415d578d5720b2b7ff89beb0335db4d3940c898a
    "from sklearn.neighbors import KNeighborsClassifier\n",
    "from sklearn.model_selection import GridSearchCV\n",
    "from sklearn.metrics import classification_report\n",
    "\n",
    "# https://stackoverflow.com/questions/57015499/how-to-use-dynamic-time-warping-with-knn-in-python\n",
    "\n",
    "# custom metric\n",
    "def DTW(a, b):   \n",
    "    an = a.size\n",
    "    bn = b.size\n",
    "    pointwise_distance = distance.cdist(a.reshape(-1,1),b.reshape(-1,1))\n",
    "    cumdist = np.matrix(np.ones((an+1,bn+1)) * np.inf)\n",
    "    cumdist[0,0] = 0\n",
    "\n",
    "    for ai in range(an):\n",
    "        for bi in range(bn):\n",
    "            minimum_cost = np.min([cumdist[ai, bi+1],\n",
    "                                   cumdist[ai+1, bi],\n",
    "                                   cumdist[ai, bi]])\n",
    "            cumdist[ai+1, bi+1] = pointwise_distance[ai,bi] + minimum_cost\n",
    "\n",
    "    return cumdist[an, bn]\n",
<<<<<<< HEAD
    "\n"
   ]
  },
  {
   "cell_type": "code",
   "execution_count": null,
   "metadata": {},
   "outputs": [],
   "source": []
  },
  {
   "cell_type": "code",
   "execution_count": 2,
   "metadata": {},
   "outputs": [],
   "source": [
    "\n",
    "df_feature=pd.read_csv('../data/df_feature.csv')\n",
    "X=pd.read_csv('../data/X_data_tr.csv', index_col='date', parse_dates=True)\n",
    "y=pd.read_csv('../data/y_data_tr.csv', index_col='date', parse_dates=True)\n",
    "\n",
    "selected_features=list(df_feature[df_feature.select==1]['variable'])\n",
    "X_train=X[selected_features][:-96]\n",
    "y_train=y['y_oecd'][:-96]\n",
    "X_test=X[selected_features][-96:]\n",
    "y_test=y['y_oecd'][-96:]"
   ]
  },
  {
   "cell_type": "code",
   "execution_count": 3,
   "metadata": {},
   "outputs": [
    {
     "name": "stdout",
     "output_type": "stream",
     "text": [
      "Fitting 3 folds for each of 2 candidates, totalling 6 fits\n"
     ]
    },
    {
     "data": {
      "text/html": [
       "<style>#sk-container-id-1 {color: black;background-color: white;}#sk-container-id-1 pre{padding: 0;}#sk-container-id-1 div.sk-toggleable {background-color: white;}#sk-container-id-1 label.sk-toggleable__label {cursor: pointer;display: block;width: 100%;margin-bottom: 0;padding: 0.3em;box-sizing: border-box;text-align: center;}#sk-container-id-1 label.sk-toggleable__label-arrow:before {content: \"▸\";float: left;margin-right: 0.25em;color: #696969;}#sk-container-id-1 label.sk-toggleable__label-arrow:hover:before {color: black;}#sk-container-id-1 div.sk-estimator:hover label.sk-toggleable__label-arrow:before {color: black;}#sk-container-id-1 div.sk-toggleable__content {max-height: 0;max-width: 0;overflow: hidden;text-align: left;background-color: #f0f8ff;}#sk-container-id-1 div.sk-toggleable__content pre {margin: 0.2em;color: black;border-radius: 0.25em;background-color: #f0f8ff;}#sk-container-id-1 input.sk-toggleable__control:checked~div.sk-toggleable__content {max-height: 200px;max-width: 100%;overflow: auto;}#sk-container-id-1 input.sk-toggleable__control:checked~label.sk-toggleable__label-arrow:before {content: \"▾\";}#sk-container-id-1 div.sk-estimator input.sk-toggleable__control:checked~label.sk-toggleable__label {background-color: #d4ebff;}#sk-container-id-1 div.sk-label input.sk-toggleable__control:checked~label.sk-toggleable__label {background-color: #d4ebff;}#sk-container-id-1 input.sk-hidden--visually {border: 0;clip: rect(1px 1px 1px 1px);clip: rect(1px, 1px, 1px, 1px);height: 1px;margin: -1px;overflow: hidden;padding: 0;position: absolute;width: 1px;}#sk-container-id-1 div.sk-estimator {font-family: monospace;background-color: #f0f8ff;border: 1px dotted black;border-radius: 0.25em;box-sizing: border-box;margin-bottom: 0.5em;}#sk-container-id-1 div.sk-estimator:hover {background-color: #d4ebff;}#sk-container-id-1 div.sk-parallel-item::after {content: \"\";width: 100%;border-bottom: 1px solid gray;flex-grow: 1;}#sk-container-id-1 div.sk-label:hover label.sk-toggleable__label {background-color: #d4ebff;}#sk-container-id-1 div.sk-serial::before {content: \"\";position: absolute;border-left: 1px solid gray;box-sizing: border-box;top: 0;bottom: 0;left: 50%;z-index: 0;}#sk-container-id-1 div.sk-serial {display: flex;flex-direction: column;align-items: center;background-color: white;padding-right: 0.2em;padding-left: 0.2em;position: relative;}#sk-container-id-1 div.sk-item {position: relative;z-index: 1;}#sk-container-id-1 div.sk-parallel {display: flex;align-items: stretch;justify-content: center;background-color: white;position: relative;}#sk-container-id-1 div.sk-item::before, #sk-container-id-1 div.sk-parallel-item::before {content: \"\";position: absolute;border-left: 1px solid gray;box-sizing: border-box;top: 0;bottom: 0;left: 50%;z-index: -1;}#sk-container-id-1 div.sk-parallel-item {display: flex;flex-direction: column;z-index: 1;position: relative;background-color: white;}#sk-container-id-1 div.sk-parallel-item:first-child::after {align-self: flex-end;width: 50%;}#sk-container-id-1 div.sk-parallel-item:last-child::after {align-self: flex-start;width: 50%;}#sk-container-id-1 div.sk-parallel-item:only-child::after {width: 0;}#sk-container-id-1 div.sk-dashed-wrapped {border: 1px dashed gray;margin: 0 0.4em 0.5em 0.4em;box-sizing: border-box;padding-bottom: 0.4em;background-color: white;}#sk-container-id-1 div.sk-label label {font-family: monospace;font-weight: bold;display: inline-block;line-height: 1.2em;}#sk-container-id-1 div.sk-label-container {text-align: center;}#sk-container-id-1 div.sk-container {/* jupyter's `normalize.less` sets `[hidden] { display: none; }` but bootstrap.min.css set `[hidden] { display: none !important; }` so we also need the `!important` here to be able to override the default hidden behavior on the sphinx rendered scikit-learn.org. See: https://github.com/scikit-learn/scikit-learn/issues/21755 */display: inline-block !important;position: relative;}#sk-container-id-1 div.sk-text-repr-fallback {display: none;}</style><div id=\"sk-container-id-1\" class=\"sk-top-container\"><div class=\"sk-text-repr-fallback\"><pre>GridSearchCV(cv=TimeSeriesSplit(gap=0, max_train_size=None, n_splits=3, test_size=None),\n",
       "             estimator=KNeighborsClassifier(metric=&lt;function DTW at 0x0000023F9BEB41F0&gt;),\n",
       "             n_jobs=-1, param_grid={&#x27;n_neighbors&#x27;: [2, 3]}, verbose=3)</pre><b>In a Jupyter environment, please rerun this cell to show the HTML representation or trust the notebook. <br />On GitHub, the HTML representation is unable to render, please try loading this page with nbviewer.org.</b></div><div class=\"sk-container\" hidden><div class=\"sk-item sk-dashed-wrapped\"><div class=\"sk-label-container\"><div class=\"sk-label sk-toggleable\"><input class=\"sk-toggleable__control sk-hidden--visually\" id=\"sk-estimator-id-1\" type=\"checkbox\" ><label for=\"sk-estimator-id-1\" class=\"sk-toggleable__label sk-toggleable__label-arrow\">GridSearchCV</label><div class=\"sk-toggleable__content\"><pre>GridSearchCV(cv=TimeSeriesSplit(gap=0, max_train_size=None, n_splits=3, test_size=None),\n",
       "             estimator=KNeighborsClassifier(metric=&lt;function DTW at 0x0000023F9BEB41F0&gt;),\n",
       "             n_jobs=-1, param_grid={&#x27;n_neighbors&#x27;: [2, 3]}, verbose=3)</pre></div></div></div><div class=\"sk-parallel\"><div class=\"sk-parallel-item\"><div class=\"sk-item\"><div class=\"sk-label-container\"><div class=\"sk-label sk-toggleable\"><input class=\"sk-toggleable__control sk-hidden--visually\" id=\"sk-estimator-id-2\" type=\"checkbox\" ><label for=\"sk-estimator-id-2\" class=\"sk-toggleable__label sk-toggleable__label-arrow\">estimator: KNeighborsClassifier</label><div class=\"sk-toggleable__content\"><pre>KNeighborsClassifier(metric=&lt;function DTW at 0x0000023F9BEB41F0&gt;)</pre></div></div></div><div class=\"sk-serial\"><div class=\"sk-item\"><div class=\"sk-estimator sk-toggleable\"><input class=\"sk-toggleable__control sk-hidden--visually\" id=\"sk-estimator-id-3\" type=\"checkbox\" ><label for=\"sk-estimator-id-3\" class=\"sk-toggleable__label sk-toggleable__label-arrow\">KNeighborsClassifier</label><div class=\"sk-toggleable__content\"><pre>KNeighborsClassifier(metric=&lt;function DTW at 0x0000023F9BEB41F0&gt;)</pre></div></div></div></div></div></div></div></div></div></div>"
      ],
      "text/plain": [
       "GridSearchCV(cv=TimeSeriesSplit(gap=0, max_train_size=None, n_splits=3, test_size=None),\n",
       "             estimator=KNeighborsClassifier(metric=<function DTW at 0x0000023F9BEB41F0>),\n",
       "             n_jobs=-1, param_grid={'n_neighbors': [2, 3]}, verbose=3)"
      ]
     },
     "execution_count": 3,
     "metadata": {},
     "output_type": "execute_result"
    }
   ],
   "source": [
    "#train\n",
    "parameters = {'n_neighbors':[2, 3]}\n",
    "\n",
    "## cv: cv=TimeSeriesSplit(n_splits=3), cv=KFold(n_splits=3, shuffle=False, random_state=14)\n",
    "\n",
    "clf = GridSearchCV(KNeighborsClassifier(metric=DTW), parameters, cv=TimeSeriesSplit(n_splits=3), \n",
    "                   verbose=3, n_jobs=-1)\n",
    "clf.fit(X_train, y_train)\n",
    "\n"
   ]
  },
  {
   "cell_type": "code",
   "execution_count": 11,
   "metadata": {},
   "outputs": [
    {
     "data": {
      "text/plain": [
       "['__abstractmethods__',\n",
       " '__class__',\n",
       " '__delattr__',\n",
       " '__dict__',\n",
       " '__dir__',\n",
       " '__doc__',\n",
       " '__eq__',\n",
       " '__format__',\n",
       " '__ge__',\n",
       " '__getattribute__',\n",
       " '__getstate__',\n",
       " '__gt__',\n",
       " '__hash__',\n",
       " '__init__',\n",
       " '__init_subclass__',\n",
       " '__le__',\n",
       " '__lt__',\n",
       " '__module__',\n",
       " '__ne__',\n",
       " '__new__',\n",
       " '__reduce__',\n",
       " '__reduce_ex__',\n",
       " '__repr__',\n",
       " '__setattr__',\n",
       " '__setstate__',\n",
       " '__sizeof__',\n",
       " '__str__',\n",
       " '__subclasshook__',\n",
       " '__weakref__',\n",
       " '_abc_impl',\n",
       " '_check_feature_names',\n",
       " '_check_n_features',\n",
       " '_check_refit_for_multimetric',\n",
       " '_estimator_type',\n",
       " '_format_results',\n",
       " '_get_param_names',\n",
       " '_get_tags',\n",
       " '_more_tags',\n",
       " '_repr_html_',\n",
       " '_repr_html_inner',\n",
       " '_repr_mimebundle_',\n",
       " '_required_parameters',\n",
       " '_run_search',\n",
       " '_select_best_index',\n",
       " '_validate_data',\n",
       " '_validate_params',\n",
       " 'best_estimator_',\n",
       " 'best_index_',\n",
       " 'best_params_',\n",
       " 'best_score_',\n",
       " 'classes_',\n",
       " 'cv',\n",
       " 'cv_results_',\n",
       " 'decision_function',\n",
       " 'error_score',\n",
       " 'estimator',\n",
       " 'feature_names_in_',\n",
       " 'fit',\n",
       " 'get_params',\n",
       " 'inverse_transform',\n",
       " 'multimetric_',\n",
       " 'n_features_in_',\n",
       " 'n_jobs',\n",
       " 'n_splits_',\n",
       " 'param_grid',\n",
       " 'pre_dispatch',\n",
       " 'predict',\n",
       " 'predict_log_proba',\n",
       " 'predict_proba',\n",
       " 'refit',\n",
       " 'refit_time_',\n",
       " 'return_train_score',\n",
       " 'score',\n",
       " 'score_samples',\n",
       " 'scorer_',\n",
       " 'scoring',\n",
       " 'set_params',\n",
       " 'transform',\n",
       " 'verbose']"
      ]
     },
     "execution_count": 11,
     "metadata": {},
     "output_type": "execute_result"
    }
   ],
   "source": [
    "dir(clf)\n",
    "#clf.cv_results_"
   ]
  },
  {
   "cell_type": "code",
   "execution_count": 34,
   "metadata": {},
   "outputs": [
    {
     "ename": "AttributeError",
     "evalue": "'KNeighborsClassifier' object has no attribute 'predict_log_proba'",
     "output_type": "error",
     "traceback": [
      "\u001b[1;31m---------------------------------------------------------------------------\u001b[0m",
      "\u001b[1;31mAttributeError\u001b[0m                            Traceback (most recent call last)",
      "Input \u001b[1;32mIn [34]\u001b[0m, in \u001b[0;36m<cell line: 1>\u001b[1;34m()\u001b[0m\n\u001b[1;32m----> 1\u001b[0m y_pred_lprob\u001b[38;5;241m=\u001b[39m\u001b[43mclf\u001b[49m\u001b[38;5;241;43m.\u001b[39;49m\u001b[43mpredict_log_proba\u001b[49m(X_test)\n",
      "File \u001b[1;32m~\\anaconda3\\lib\\site-packages\\sklearn\\utils\\_available_if.py:32\u001b[0m, in \u001b[0;36m_AvailableIfDescriptor.__get__\u001b[1;34m(self, obj, owner)\u001b[0m\n\u001b[0;32m     26\u001b[0m attr_err \u001b[38;5;241m=\u001b[39m \u001b[38;5;167;01mAttributeError\u001b[39;00m(\n\u001b[0;32m     27\u001b[0m     \u001b[38;5;124mf\u001b[39m\u001b[38;5;124m\"\u001b[39m\u001b[38;5;124mThis \u001b[39m\u001b[38;5;132;01m{\u001b[39;00m\u001b[38;5;28mrepr\u001b[39m(owner\u001b[38;5;241m.\u001b[39m\u001b[38;5;18m__name__\u001b[39m)\u001b[38;5;132;01m}\u001b[39;00m\u001b[38;5;124m has no attribute \u001b[39m\u001b[38;5;132;01m{\u001b[39;00m\u001b[38;5;28mrepr\u001b[39m(\u001b[38;5;28mself\u001b[39m\u001b[38;5;241m.\u001b[39mattribute_name)\u001b[38;5;132;01m}\u001b[39;00m\u001b[38;5;124m\"\u001b[39m\n\u001b[0;32m     28\u001b[0m )\n\u001b[0;32m     29\u001b[0m \u001b[38;5;28;01mif\u001b[39;00m obj \u001b[38;5;129;01mis\u001b[39;00m \u001b[38;5;129;01mnot\u001b[39;00m \u001b[38;5;28;01mNone\u001b[39;00m:\n\u001b[0;32m     30\u001b[0m     \u001b[38;5;66;03m# delegate only on instances, not the classes.\u001b[39;00m\n\u001b[0;32m     31\u001b[0m     \u001b[38;5;66;03m# this is to allow access to the docstrings.\u001b[39;00m\n\u001b[1;32m---> 32\u001b[0m     \u001b[38;5;28;01mif\u001b[39;00m \u001b[38;5;129;01mnot\u001b[39;00m \u001b[38;5;28;43mself\u001b[39;49m\u001b[38;5;241;43m.\u001b[39;49m\u001b[43mcheck\u001b[49m\u001b[43m(\u001b[49m\u001b[43mobj\u001b[49m\u001b[43m)\u001b[49m:\n\u001b[0;32m     33\u001b[0m         \u001b[38;5;28;01mraise\u001b[39;00m attr_err\n\u001b[0;32m     34\u001b[0m     out \u001b[38;5;241m=\u001b[39m MethodType(\u001b[38;5;28mself\u001b[39m\u001b[38;5;241m.\u001b[39mfn, obj)\n",
      "File \u001b[1;32m~\\anaconda3\\lib\\site-packages\\sklearn\\model_selection\\_search.py:362\u001b[0m, in \u001b[0;36m_estimator_has.<locals>.check\u001b[1;34m(self)\u001b[0m\n\u001b[0;32m    359\u001b[0m _check_refit(\u001b[38;5;28mself\u001b[39m, attr)\n\u001b[0;32m    360\u001b[0m \u001b[38;5;28;01mif\u001b[39;00m \u001b[38;5;28mhasattr\u001b[39m(\u001b[38;5;28mself\u001b[39m, \u001b[38;5;124m\"\u001b[39m\u001b[38;5;124mbest_estimator_\u001b[39m\u001b[38;5;124m\"\u001b[39m):\n\u001b[0;32m    361\u001b[0m     \u001b[38;5;66;03m# raise an AttributeError if `attr` does not exist\u001b[39;00m\n\u001b[1;32m--> 362\u001b[0m     \u001b[38;5;28;43mgetattr\u001b[39;49m\u001b[43m(\u001b[49m\u001b[38;5;28;43mself\u001b[39;49m\u001b[38;5;241;43m.\u001b[39;49m\u001b[43mbest_estimator_\u001b[49m\u001b[43m,\u001b[49m\u001b[43m \u001b[49m\u001b[43mattr\u001b[49m\u001b[43m)\u001b[49m\n\u001b[0;32m    363\u001b[0m     \u001b[38;5;28;01mreturn\u001b[39;00m \u001b[38;5;28;01mTrue\u001b[39;00m\n\u001b[0;32m    364\u001b[0m \u001b[38;5;66;03m# raise an AttributeError if `attr` does not exist\u001b[39;00m\n",
      "\u001b[1;31mAttributeError\u001b[0m: 'KNeighborsClassifier' object has no attribute 'predict_log_proba'"
     ]
    }
   ],
   "source": [
    "y_pred_prob=clf.predict_proba(X_test)"
   ]
  },
  {
   "cell_type": "code",
   "execution_count": null,
   "metadata": {},
   "outputs": [],
   "source": [
    "fig, ax=plt.subplots()\n",
    "#ax.plot(y_pred_prob[:,1])\n",
    "ax.plot(y_pred_prob)\n",
    "pd.DataFrame(y_pred_prob)[1]\n",
    "#pd.DataFrame(y['GDP_N'][-96:]).reset_index()"
   ]
  },
  {
   "cell_type": "code",
   "execution_count": 4,
   "metadata": {},
   "outputs": [
    {
     "name": "stdout",
     "output_type": "stream",
     "text": [
      "              precision    recall  f1-score   support\n",
      "\n",
      "         0.0       0.76      0.88      0.82        68\n",
      "         1.0       0.53      0.32      0.40        28\n",
      "\n",
      "    accuracy                           0.72        96\n",
      "   macro avg       0.64      0.60      0.61        96\n",
      "weighted avg       0.69      0.72      0.69        96\n",
      "\n"
     ]
    }
   ],
   "source": [
    "#evaluate\n",
    "X_test=X[selected_features][-96:]\n",
    "y_test=y['y_oecd'][-96:]\n",
    "\n",
    "y_pred = clf.predict(X_test)\n",
    "print(classification_report(y_test, y_pred))"
   ]
  },
  {
   "cell_type": "code",
   "execution_count": 42,
   "metadata": {},
   "outputs": [
    {
     "data": {
      "text/plain": [
       "[<matplotlib.lines.Line2D at 0x23fc8d4f970>]"
      ]
     },
     "execution_count": 42,
     "metadata": {},
     "output_type": "execute_result"
    },
    {
     "data": {
      "image/png": "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\n",
      "text/plain": [
       "<Figure size 640x480 with 1 Axes>"
      ]
     },
     "metadata": {},
     "output_type": "display_data"
    }
   ],
   "source": [
    "import matplotlib as mpl\n",
    "import matplotlib.pyplot as plt\n",
    "\n",
    "\n",
    "\n",
    "y_test=y['y_oecd'][-96:]\n",
    "plt.plot(y_test)"
   ]
  },
  {
   "cell_type": "code",
   "execution_count": 6,
   "metadata": {},
   "outputs": [],
   "source": [
    "import pickle\n",
    "\n",
    "with open ('../result/clf_1.pkl', 'wb') as f:\n",
    "    pickle.dump(clf, f)"
   ]
  },
  {
   "cell_type": "code",
   "execution_count": 7,
   "metadata": {},
   "outputs": [
    {
     "data": {
      "text/plain": [
       "y_oecd\n",
       "0.0    349\n",
       "1.0    239\n",
       "Name: y_agg, dtype: int64"
      ]
     },
     "execution_count": 7,
     "metadata": {},
     "output_type": "execute_result"
    }
   ],
   "source": [
    "\n",
    "\n",
    "y['y_agg'].groupby(y['y_oecd']).count()"
   ]
  },
  {
   "cell_type": "code",
   "execution_count": 8,
   "metadata": {},
   "outputs": [
    {
     "ename": "KeyError",
     "evalue": "\"None of [Index([12, 13, 14, 15, 16, 17, 18, 19, 20, 21, 22, 23, 24, 25, 26, 27, 28, 29,\\n       30, 31, 32, 33, 34, 35],\\n      dtype='int32')] are in the [columns]\"",
     "output_type": "error",
     "traceback": [
      "\u001b[1;31m---------------------------------------------------------------------------\u001b[0m",
      "\u001b[1;31mKeyError\u001b[0m                                  Traceback (most recent call last)",
      "Input \u001b[1;32mIn [8]\u001b[0m, in \u001b[0;36m<cell line: 12>\u001b[1;34m()\u001b[0m\n\u001b[0;32m     10\u001b[0m y_test\u001b[38;5;241m=\u001b[39my[\u001b[38;5;124m'\u001b[39m\u001b[38;5;124my_oecd\u001b[39m\u001b[38;5;124m'\u001b[39m][\u001b[38;5;241m-\u001b[39m\u001b[38;5;241m36\u001b[39m:]\n\u001b[0;32m     12\u001b[0m \u001b[38;5;28;01mfor\u001b[39;00m train_idx, val_idx \u001b[38;5;129;01min\u001b[39;00m kfold\u001b[38;5;241m.\u001b[39msplit(X_test):\n\u001b[1;32m---> 13\u001b[0m     X_train, X_val\u001b[38;5;241m=\u001b[39m\u001b[43mX_tv\u001b[49m\u001b[43m[\u001b[49m\u001b[43mtrain_idx\u001b[49m\u001b[43m]\u001b[49m, X_tv[val_idx]\n\u001b[0;32m     14\u001b[0m     y_train, y_val\u001b[38;5;241m=\u001b[39my_tv[train_idx], y_tv[val_idx]\n",
      "File \u001b[1;32m~\\anaconda3\\lib\\site-packages\\pandas\\core\\frame.py:3767\u001b[0m, in \u001b[0;36mDataFrame.__getitem__\u001b[1;34m(self, key)\u001b[0m\n\u001b[0;32m   3765\u001b[0m     \u001b[38;5;28;01mif\u001b[39;00m is_iterator(key):\n\u001b[0;32m   3766\u001b[0m         key \u001b[38;5;241m=\u001b[39m \u001b[38;5;28mlist\u001b[39m(key)\n\u001b[1;32m-> 3767\u001b[0m     indexer \u001b[38;5;241m=\u001b[39m \u001b[38;5;28;43mself\u001b[39;49m\u001b[38;5;241;43m.\u001b[39;49m\u001b[43mcolumns\u001b[49m\u001b[38;5;241;43m.\u001b[39;49m\u001b[43m_get_indexer_strict\u001b[49m\u001b[43m(\u001b[49m\u001b[43mkey\u001b[49m\u001b[43m,\u001b[49m\u001b[43m \u001b[49m\u001b[38;5;124;43m\"\u001b[39;49m\u001b[38;5;124;43mcolumns\u001b[39;49m\u001b[38;5;124;43m\"\u001b[39;49m\u001b[43m)\u001b[49m[\u001b[38;5;241m1\u001b[39m]\n\u001b[0;32m   3769\u001b[0m \u001b[38;5;66;03m# take() does not accept boolean indexers\u001b[39;00m\n\u001b[0;32m   3770\u001b[0m \u001b[38;5;28;01mif\u001b[39;00m \u001b[38;5;28mgetattr\u001b[39m(indexer, \u001b[38;5;124m\"\u001b[39m\u001b[38;5;124mdtype\u001b[39m\u001b[38;5;124m\"\u001b[39m, \u001b[38;5;28;01mNone\u001b[39;00m) \u001b[38;5;241m==\u001b[39m \u001b[38;5;28mbool\u001b[39m:\n",
      "File \u001b[1;32m~\\anaconda3\\lib\\site-packages\\pandas\\core\\indexes\\base.py:5876\u001b[0m, in \u001b[0;36mIndex._get_indexer_strict\u001b[1;34m(self, key, axis_name)\u001b[0m\n\u001b[0;32m   5873\u001b[0m \u001b[38;5;28;01melse\u001b[39;00m:\n\u001b[0;32m   5874\u001b[0m     keyarr, indexer, new_indexer \u001b[38;5;241m=\u001b[39m \u001b[38;5;28mself\u001b[39m\u001b[38;5;241m.\u001b[39m_reindex_non_unique(keyarr)\n\u001b[1;32m-> 5876\u001b[0m \u001b[38;5;28;43mself\u001b[39;49m\u001b[38;5;241;43m.\u001b[39;49m\u001b[43m_raise_if_missing\u001b[49m\u001b[43m(\u001b[49m\u001b[43mkeyarr\u001b[49m\u001b[43m,\u001b[49m\u001b[43m \u001b[49m\u001b[43mindexer\u001b[49m\u001b[43m,\u001b[49m\u001b[43m \u001b[49m\u001b[43maxis_name\u001b[49m\u001b[43m)\u001b[49m\n\u001b[0;32m   5878\u001b[0m keyarr \u001b[38;5;241m=\u001b[39m \u001b[38;5;28mself\u001b[39m\u001b[38;5;241m.\u001b[39mtake(indexer)\n\u001b[0;32m   5879\u001b[0m \u001b[38;5;28;01mif\u001b[39;00m \u001b[38;5;28misinstance\u001b[39m(key, Index):\n\u001b[0;32m   5880\u001b[0m     \u001b[38;5;66;03m# GH 42790 - Preserve name from an Index\u001b[39;00m\n",
      "File \u001b[1;32m~\\anaconda3\\lib\\site-packages\\pandas\\core\\indexes\\base.py:5935\u001b[0m, in \u001b[0;36mIndex._raise_if_missing\u001b[1;34m(self, key, indexer, axis_name)\u001b[0m\n\u001b[0;32m   5933\u001b[0m     \u001b[38;5;28;01mif\u001b[39;00m use_interval_msg:\n\u001b[0;32m   5934\u001b[0m         key \u001b[38;5;241m=\u001b[39m \u001b[38;5;28mlist\u001b[39m(key)\n\u001b[1;32m-> 5935\u001b[0m     \u001b[38;5;28;01mraise\u001b[39;00m \u001b[38;5;167;01mKeyError\u001b[39;00m(\u001b[38;5;124mf\u001b[39m\u001b[38;5;124m\"\u001b[39m\u001b[38;5;124mNone of [\u001b[39m\u001b[38;5;132;01m{\u001b[39;00mkey\u001b[38;5;132;01m}\u001b[39;00m\u001b[38;5;124m] are in the [\u001b[39m\u001b[38;5;132;01m{\u001b[39;00maxis_name\u001b[38;5;132;01m}\u001b[39;00m\u001b[38;5;124m]\u001b[39m\u001b[38;5;124m\"\u001b[39m)\n\u001b[0;32m   5937\u001b[0m not_found \u001b[38;5;241m=\u001b[39m \u001b[38;5;28mlist\u001b[39m(ensure_index(key)[missing_mask\u001b[38;5;241m.\u001b[39mnonzero()[\u001b[38;5;241m0\u001b[39m]]\u001b[38;5;241m.\u001b[39munique())\n\u001b[0;32m   5938\u001b[0m \u001b[38;5;28;01mraise\u001b[39;00m \u001b[38;5;167;01mKeyError\u001b[39;00m(\u001b[38;5;124mf\u001b[39m\u001b[38;5;124m\"\u001b[39m\u001b[38;5;132;01m{\u001b[39;00mnot_found\u001b[38;5;132;01m}\u001b[39;00m\u001b[38;5;124m not in index\u001b[39m\u001b[38;5;124m\"\u001b[39m)\n",
      "\u001b[1;31mKeyError\u001b[0m: \"None of [Index([12, 13, 14, 15, 16, 17, 18, 19, 20, 21, 22, 23, 24, 25, 26, 27, 28, 29,\\n       30, 31, 32, 33, 34, 35],\\n      dtype='int32')] are in the [columns]\""
     ]
    }
   ],
   "source": [
    "## test split = 36 month\n",
    "## train, validation with the rest(47 years)\n",
    "\n",
    "from sklearn.model_selection import train_test_split, KFold, TimeSeriesSplit\n",
    "kfold = KFold(n_splits=3, shuffle=False)\n",
    "\n",
    "X_tv=X[selected_features][:-36]\n",
    "X_test=X[selected_features][-36:]\n",
    "y_tv=y['y_oecd'][:-36]\n",
    "y_test=y['y_oecd'][-36:]\n",
    "\n",
    "for train_idx, val_idx in kfold.split(X_test):\n",
    "    X_train, X_val=X_tv[train_idx], X_tv[val_idx]\n",
    "    y_train, y_val=y_tv[train_idx], y_tv[val_idx]\n",
    "    \n",
    "\n",
    "                                    "
   ]
  },
  {
   "cell_type": "code",
   "execution_count": null,
   "metadata": {},
   "outputs": [],
   "source": [
    "KFold.split()"
   ]
  }
 ],
 "metadata": {
  "hide_input": false,
  "kernelspec": {
   "display_name": "Python 3 (ipykernel)",
=======
    "\n",
    "#train\n",
    "parameters = {'n_neighbors':[2, 4, 8]}\n",
    "clf = GridSearchCV(KNeighborsClassifier(metric=DTW), parameters, cv=3, verbose=1)\n",
    "clf.fit(X_train, y_train)\n",
    "\n",
    "#evaluate\n",
    "y_pred = clf.predict(X_test)\n",
    "print(classification_report(y_test, y_pred))"
   ]
  }
 ],
 "metadata": {
  "kernelspec": {
   "display_name": "milestoneII-GYt9I6pr",
>>>>>>> 415d578d5720b2b7ff89beb0335db4d3940c898a
   "language": "python",
   "name": "python3"
  },
  "language_info": {
   "codemirror_mode": {
    "name": "ipython",
    "version": 3
   },
   "file_extension": ".py",
   "mimetype": "text/x-python",
   "name": "python",
   "nbconvert_exporter": "python",
   "pygments_lexer": "ipython3",
<<<<<<< HEAD
   "version": "3.9.12"
  },
  "toc": {
   "base_numbering": 1,
   "nav_menu": {},
   "number_sections": true,
   "sideBar": true,
   "skip_h1_title": false,
   "title_cell": "Table of Contents",
   "title_sidebar": "Contents",
   "toc_cell": false,
   "toc_position": {},
   "toc_section_display": true,
   "toc_window_display": false
  }
=======
   "version": "3.10.8"
  },
  "orig_nbformat": 4
>>>>>>> 415d578d5720b2b7ff89beb0335db4d3940c898a
 },
 "nbformat": 4,
 "nbformat_minor": 2
}
